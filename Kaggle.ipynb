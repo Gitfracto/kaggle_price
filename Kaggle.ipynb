{
 "cells": [
  {
   "cell_type": "code",
   "execution_count": 234,
   "id": "acbd0c97",
   "metadata": {},
   "outputs": [],
   "source": [
    "\n",
    "import pandas as pd\n",
    "import folium\n",
    "import numpy as np\n",
    "import re\n",
    "from folium.plugins import HeatMapWithTime as HMWT\n",
    "from folium.plugins import HeatMap as HM\n",
    "import requests\n",
    "from sklearn.svm import SVR # Support Vector Regressor\n",
    "from sklearn.metrics import mean_squared_error as mse\n",
    "import seaborn as sns"
   ]
  },
  {
   "cell_type": "code",
   "execution_count": 235,
   "id": "84c1fd3b",
   "metadata": {},
   "outputs": [],
   "source": [
    "from pycaret.datasets import get_data\n",
    "from scipy.stats import linregress\n",
    "\n",
    "import statsmodels.api as sm\n",
    "from statsmodels.formula.api import ols"
   ]
  },
  {
   "cell_type": "code",
   "execution_count": 236,
   "id": "20a2b6ad",
   "metadata": {},
   "outputs": [],
   "source": [
    "import matplotlib.pyplot as plt \n",
    "from mpl_toolkits.mplot3d import Axes3D\n",
    "%matplotlib inline        \n",
    "\n",
    "import numpy as np\n",
    "import pandas as pd \n",
    "\n",
    "from sklearn.datasets import make_circles, load_boston\n",
    "from sklearn.model_selection import train_test_split as tts\n",
    "\n",
    "from sklearn.linear_model import LinearRegression as LinReg\n",
    "from sklearn.linear_model import Lasso\n",
    "from sklearn.linear_model import Ridge\n",
    "from sklearn.linear_model import ElasticNet\n",
    "from sklearn.ensemble import RandomForestRegressor as RFR"
   ]
  },
  {
   "cell_type": "code",
   "execution_count": 237,
   "id": "bcb94ad6",
   "metadata": {},
   "outputs": [],
   "source": [
    "from xgboost import XGBRegressor as XGBR\n",
    "import xgboost as xgb"
   ]
  },
  {
   "cell_type": "code",
   "execution_count": 238,
   "id": "9f6f1c8a",
   "metadata": {},
   "outputs": [
    {
     "data": {
      "text/html": [
       "<div>\n",
       "<style scoped>\n",
       "    .dataframe tbody tr th:only-of-type {\n",
       "        vertical-align: middle;\n",
       "    }\n",
       "\n",
       "    .dataframe tbody tr th {\n",
       "        vertical-align: top;\n",
       "    }\n",
       "\n",
       "    .dataframe thead th {\n",
       "        text-align: right;\n",
       "    }\n",
       "</style>\n",
       "<table border=\"1\" class=\"dataframe\">\n",
       "  <thead>\n",
       "    <tr style=\"text-align: right;\">\n",
       "      <th></th>\n",
       "      <th>id</th>\n",
       "      <th>listing_url</th>\n",
       "      <th>scrape_id</th>\n",
       "      <th>last_scraped</th>\n",
       "      <th>name</th>\n",
       "      <th>description</th>\n",
       "      <th>neighborhood_overview</th>\n",
       "      <th>picture_url</th>\n",
       "      <th>host_id</th>\n",
       "      <th>host_url</th>\n",
       "      <th>...</th>\n",
       "      <th>review_scores_communication</th>\n",
       "      <th>review_scores_location</th>\n",
       "      <th>review_scores_value</th>\n",
       "      <th>license</th>\n",
       "      <th>instant_bookable</th>\n",
       "      <th>calculated_host_listings_count</th>\n",
       "      <th>calculated_host_listings_count_entire_homes</th>\n",
       "      <th>calculated_host_listings_count_private_rooms</th>\n",
       "      <th>calculated_host_listings_count_shared_rooms</th>\n",
       "      <th>reviews_per_month</th>\n",
       "    </tr>\n",
       "  </thead>\n",
       "  <tbody>\n",
       "    <tr>\n",
       "      <th>0</th>\n",
       "      <td>0</td>\n",
       "      <td>https://www.airbnb.com/rooms/2842228</td>\n",
       "      <td>20211205213126</td>\n",
       "      <td>2021-12-06</td>\n",
       "      <td>Your little appartment on wheels</td>\n",
       "      <td>A waggon luxurous designed as a hotel room on ...</td>\n",
       "      <td>Waterland is a beautiful countryside area, wit...</td>\n",
       "      <td>https://a0.muscache.com/pictures/cc2aa51a-3c11...</td>\n",
       "      <td>3040748</td>\n",
       "      <td>https://www.airbnb.com/users/show/3040748</td>\n",
       "      <td>...</td>\n",
       "      <td>4.75</td>\n",
       "      <td>4.69</td>\n",
       "      <td>4.49</td>\n",
       "      <td>0363 2A6D 7C09 877D 715F</td>\n",
       "      <td>f</td>\n",
       "      <td>10</td>\n",
       "      <td>0</td>\n",
       "      <td>10</td>\n",
       "      <td>0</td>\n",
       "      <td>0.91</td>\n",
       "    </tr>\n",
       "    <tr>\n",
       "      <th>1</th>\n",
       "      <td>1</td>\n",
       "      <td>https://www.airbnb.com/rooms/41236669</td>\n",
       "      <td>20211205213126</td>\n",
       "      <td>2021-12-06</td>\n",
       "      <td>Spacious 4p city center apartment (2 bedrooms!)</td>\n",
       "      <td>Are you looking for a perfect place to stay in...</td>\n",
       "      <td>Our home is located in the Plantagebuurt. A un...</td>\n",
       "      <td>https://a0.muscache.com/pictures/5f33bf5a-399c...</td>\n",
       "      <td>34773624</td>\n",
       "      <td>https://www.airbnb.com/users/show/34773624</td>\n",
       "      <td>...</td>\n",
       "      <td>5.00</td>\n",
       "      <td>5.00</td>\n",
       "      <td>4.89</td>\n",
       "      <td>0363 BD0E 9934 ACCA D3DE</td>\n",
       "      <td>f</td>\n",
       "      <td>1</td>\n",
       "      <td>1</td>\n",
       "      <td>0</td>\n",
       "      <td>0</td>\n",
       "      <td>0.40</td>\n",
       "    </tr>\n",
       "  </tbody>\n",
       "</table>\n",
       "<p>2 rows × 74 columns</p>\n",
       "</div>"
      ],
      "text/plain": [
       "   id                            listing_url       scrape_id last_scraped  \\\n",
       "0   0   https://www.airbnb.com/rooms/2842228  20211205213126   2021-12-06   \n",
       "1   1  https://www.airbnb.com/rooms/41236669  20211205213126   2021-12-06   \n",
       "\n",
       "                                              name  \\\n",
       "0                 Your little appartment on wheels   \n",
       "1  Spacious 4p city center apartment (2 bedrooms!)   \n",
       "\n",
       "                                         description  \\\n",
       "0  A waggon luxurous designed as a hotel room on ...   \n",
       "1  Are you looking for a perfect place to stay in...   \n",
       "\n",
       "                               neighborhood_overview  \\\n",
       "0  Waterland is a beautiful countryside area, wit...   \n",
       "1  Our home is located in the Plantagebuurt. A un...   \n",
       "\n",
       "                                         picture_url   host_id  \\\n",
       "0  https://a0.muscache.com/pictures/cc2aa51a-3c11...   3040748   \n",
       "1  https://a0.muscache.com/pictures/5f33bf5a-399c...  34773624   \n",
       "\n",
       "                                     host_url  ...  \\\n",
       "0   https://www.airbnb.com/users/show/3040748  ...   \n",
       "1  https://www.airbnb.com/users/show/34773624  ...   \n",
       "\n",
       "  review_scores_communication review_scores_location review_scores_value  \\\n",
       "0                        4.75                   4.69                4.49   \n",
       "1                        5.00                   5.00                4.89   \n",
       "\n",
       "                    license instant_bookable calculated_host_listings_count  \\\n",
       "0  0363 2A6D 7C09 877D 715F                f                             10   \n",
       "1  0363 BD0E 9934 ACCA D3DE                f                              1   \n",
       "\n",
       "  calculated_host_listings_count_entire_homes  \\\n",
       "0                                           0   \n",
       "1                                           1   \n",
       "\n",
       "  calculated_host_listings_count_private_rooms  \\\n",
       "0                                           10   \n",
       "1                                            0   \n",
       "\n",
       "  calculated_host_listings_count_shared_rooms reviews_per_month  \n",
       "0                                           0              0.91  \n",
       "1                                           0              0.40  \n",
       "\n",
       "[2 rows x 74 columns]"
      ]
     },
     "execution_count": 238,
     "metadata": {},
     "output_type": "execute_result"
    }
   ],
   "source": [
    "df = pd.read_csv('train.csv')\n",
    "df.head(2)"
   ]
  },
  {
   "cell_type": "code",
   "execution_count": 239,
   "id": "fc36f220",
   "metadata": {},
   "outputs": [
    {
     "data": {
      "text/plain": [
       "Index(['id', 'listing_url', 'scrape_id', 'last_scraped', 'name', 'description',\n",
       "       'neighborhood_overview', 'picture_url', 'host_id', 'host_url',\n",
       "       'host_name', 'host_since', 'host_location', 'host_about',\n",
       "       'host_response_time', 'host_response_rate', 'host_acceptance_rate',\n",
       "       'host_is_superhost', 'host_thumbnail_url', 'host_picture_url',\n",
       "       'host_neighbourhood', 'host_listings_count',\n",
       "       'host_total_listings_count', 'host_verifications',\n",
       "       'host_has_profile_pic', 'host_identity_verified', 'neighbourhood',\n",
       "       'neighbourhood_cleansed', 'neighbourhood_group_cleansed', 'latitude',\n",
       "       'longitude', 'property_type', 'room_type', 'accommodates', 'bathrooms',\n",
       "       'bathrooms_text', 'bedrooms', 'beds', 'amenities', 'price',\n",
       "       'minimum_nights', 'maximum_nights', 'minimum_minimum_nights',\n",
       "       'maximum_minimum_nights', 'minimum_maximum_nights',\n",
       "       'maximum_maximum_nights', 'minimum_nights_avg_ntm',\n",
       "       'maximum_nights_avg_ntm', 'calendar_updated', 'has_availability',\n",
       "       'availability_30', 'availability_60', 'availability_90',\n",
       "       'availability_365', 'calendar_last_scraped', 'number_of_reviews',\n",
       "       'number_of_reviews_ltm', 'number_of_reviews_l30d', 'first_review',\n",
       "       'last_review', 'review_scores_rating', 'review_scores_accuracy',\n",
       "       'review_scores_cleanliness', 'review_scores_checkin',\n",
       "       'review_scores_communication', 'review_scores_location',\n",
       "       'review_scores_value', 'license', 'instant_bookable',\n",
       "       'calculated_host_listings_count',\n",
       "       'calculated_host_listings_count_entire_homes',\n",
       "       'calculated_host_listings_count_private_rooms',\n",
       "       'calculated_host_listings_count_shared_rooms', 'reviews_per_month'],\n",
       "      dtype='object')"
      ]
     },
     "execution_count": 239,
     "metadata": {},
     "output_type": "execute_result"
    }
   ],
   "source": [
    "df.columns"
   ]
  },
  {
   "cell_type": "code",
   "execution_count": 240,
   "id": "afb3ec2c",
   "metadata": {},
   "outputs": [],
   "source": [
    "df_rev = df.drop(['id', 'listing_url', 'scrape_id', 'last_scraped', 'name', 'description',\n",
    "     'neighborhood_overview', 'picture_url', 'host_id', 'host_url', 'host_name', 'host_since', 'host_location',\n",
    "     'host_about', 'host_response_time', 'host_response_rate', 'host_acceptance_rate', 'host_is_superhost',\n",
    "     'host_thumbnail_url', 'host_picture_url', 'host_neighbourhood', 'host_listings_count',\n",
    "     'host_total_listings_count', 'host_verifications', 'host_has_profile_pic', 'host_identity_verified',\n",
    "     'neighbourhood', 'neighbourhood_cleansed',\n",
    "     'neighbourhood_group_cleansed',\n",
    "                         'latitude',\n",
    "                         'longitude',\n",
    "                         'property_type',\n",
    "     'room_type', 'accommodates',\n",
    "     'bathrooms', 'bathrooms_text',\n",
    "     'bedrooms', 'beds', 'amenities',\n",
    "     #'price',\n",
    "     'minimum_nights',\n",
    "     'maximum_nights',\n",
    "     'minimum_minimum_nights', 'maximum_minimum_nights', 'minimum_maximum_nights', 'maximum_maximum_nights',\n",
    "     'minimum_nights_avg_ntm', 'maximum_nights_avg_ntm', 'calendar_updated', 'has_availability',\n",
    "     'availability_30', 'availability_60', 'availability_90',\n",
    "     'availability_365', 'calendar_last_scraped',# 'number_of_reviews',\n",
    "     'number_of_reviews_ltm', 'number_of_reviews_l30d', 'first_review', 'last_review',  'review_scores_rating',\n",
    "    # 'review_scores_accuracy',\n",
    "     #'review_scores_cleanliness',\n",
    "    # 'review_scores_checkin',\n",
    "    # 'review_scores_communication',\n",
    "    # 'review_scores_location',\n",
    "    # 'review_scores_value',\n",
    "     'license', 'instant_bookable',\n",
    "     'calculated_host_listings_count', 'calculated_host_listings_count_entire_homes',\n",
    "     'calculated_host_listings_count_private_rooms', 'calculated_host_listings_count_shared_rooms',\n",
    "     'reviews_per_month'],axis=1)"
   ]
  },
  {
   "cell_type": "code",
   "execution_count": 241,
   "id": "d66223fa",
   "metadata": {},
   "outputs": [
    {
     "data": {
      "image/png": "[encoded data removed]",
      "text/plain": [
       "<Figure size 576x432 with 2 Axes>"
      ]
     },
     "metadata": {
      "needs_background": "light"
     },
     "output_type": "display_data"
    }
   ],
   "source": [
    "corr_df = df_rev.corr(method='pearson')\n",
    "\n",
    "plt.figure(figsize=(8, 6))\n",
    "sns.heatmap(corr_df, annot=True)\n",
    "plt.show()"
   ]
  },
  {
   "cell_type": "code",
   "execution_count": 242,
   "id": "f43389e3",
   "metadata": {},
   "outputs": [],
   "source": [
    "df_type = df.drop(['id', \n",
    "                   'listing_url', 'scrape_id', 'last_scraped', 'name', 'description',\n",
    "     'neighborhood_overview', 'picture_url', 'host_id', 'host_url', 'host_name', 'host_since', 'host_location',\n",
    "     'host_about', 'host_response_time', 'host_response_rate', 'host_acceptance_rate', 'host_is_superhost',\n",
    "     'host_thumbnail_url', 'host_picture_url', 'host_neighbourhood', 'host_listings_count',\n",
    "     'host_total_listings_count', 'host_verifications', 'host_has_profile_pic', 'host_identity_verified',\n",
    "     'neighbourhood', 'neighbourhood_cleansed',\n",
    "     'neighbourhood_group_cleansed',\n",
    "                   'latitude',\n",
    "                         'longitude',\n",
    "                        # 'property_type',\n",
    "     'room_type', 'accommodates',\n",
    "     'bathrooms', 'bathrooms_text',\n",
    "     'bedrooms', 'beds', 'amenities',\n",
    "     #'price',\n",
    "     'minimum_nights',\n",
    "     'maximum_nights',\n",
    "     'minimum_minimum_nights', 'maximum_minimum_nights', 'minimum_maximum_nights', 'maximum_maximum_nights',\n",
    "     'minimum_nights_avg_ntm', 'maximum_nights_avg_ntm', 'calendar_updated', 'has_availability',\n",
    "     'availability_30', 'availability_60', 'availability_90',\n",
    "     'availability_365', 'calendar_last_scraped', 'number_of_reviews',\n",
    "     'number_of_reviews_ltm', 'number_of_reviews_l30d', 'first_review', 'last_review',  'review_scores_rating',\n",
    "     'review_scores_accuracy',\n",
    "     'review_scores_cleanliness',\n",
    "     'review_scores_checkin',\n",
    "     'review_scores_communication',\n",
    "     'review_scores_location',\n",
    "     'review_scores_value',\n",
    "     'license', 'instant_bookable',\n",
    "     'calculated_host_listings_count', 'calculated_host_listings_count_entire_homes',\n",
    "     'calculated_host_listings_count_private_rooms', 'calculated_host_listings_count_shared_rooms',\n",
    "     'reviews_per_month'],axis=1)"
   ]
  },
  {
   "cell_type": "code",
   "execution_count": 243,
   "id": "58d9d90d",
   "metadata": {},
   "outputs": [],
   "source": [
    "def cleaning_property(x):\n",
    "    if \"Entire\" in x:\n",
    "        return \"Entire\"\n",
    "    if \"Private room\" in x:\n",
    "        return \"Private room\" \n",
    "    if \"boat\" in x:\n",
    "        return \"boat\" \n",
    "    if \"room\" in x:\n",
    "        return \"room\"\n",
    "    if \"hotel\" in x:\n",
    "        return \"hotel\"\n",
    "    if \"shared\" in x:\n",
    "        return \"shared\"\n",
    "    else:\n",
    "        return \"none\""
   ]
  },
  {
   "cell_type": "code",
   "execution_count": 244,
   "id": "bd88a71d",
   "metadata": {},
   "outputs": [],
   "source": [
    "    df_type[\"property_type\"]=df_type.property_type.apply(cleaning_property)"
   ]
  },
  {
   "cell_type": "code",
   "execution_count": 245,
   "id": "0f705a70",
   "metadata": {},
   "outputs": [],
   "source": [
    "property_type=pd.get_dummies(df_type.property_type, drop_first=True)\n",
    "df_type=pd.concat([df_type,property_type], axis=1)"
   ]
  },
  {
   "cell_type": "code",
   "execution_count": 246,
   "id": "68eb7446",
   "metadata": {},
   "outputs": [
    {
     "data": {
      "image/png": "[encoded data removed]",
      "text/plain": [
       "<Figure size 576x432 with 2 Axes>"
      ]
     },
     "metadata": {
      "needs_background": "light"
     },
     "output_type": "display_data"
    }
   ],
   "source": [
    "corr_df = df_type.corr(method='pearson')\n",
    "\n",
    "plt.figure(figsize=(8, 6))\n",
    "sns.heatmap(corr_df, annot=True)\n",
    "plt.show()"
   ]
  },
  {
   "cell_type": "code",
   "execution_count": 247,
   "id": "5fbe633c",
   "metadata": {},
   "outputs": [],
   "source": [
    "def cleaning_property(x):\n",
    "    if \"Entire\" in x:\n",
    "        return 3 \n",
    "    if \"Private room\" in x:\n",
    "        return 2 \n",
    "    if \"boat\" in x:\n",
    "        return 1.5 \n",
    "    if \"room\" in x:\n",
    "        return 1\n",
    "    if \"hotel\" in x:\n",
    "        return 2\n",
    "    if \"shared\" in x:\n",
    "        return 1\n",
    "    else:\n",
    "        return 0"
   ]
  },
  {
   "cell_type": "code",
   "execution_count": 248,
   "id": "0ab99859",
   "metadata": {},
   "outputs": [],
   "source": [
    "def cleaning_bath(x):\n",
    "    try:\n",
    "        if \"half\" in x or \"Half\" in x:\n",
    "            return 0.5\n",
    "        else:\n",
    "            return float((re.findall(\"[+-]?([0-9]+([.][0-9]*)?|[.][0-9]+)\",x))[0][0])\n",
    "    except:\n",
    "        return x"
   ]
  },
  {
   "cell_type": "code",
   "execution_count": 249,
   "id": "9321ae04",
   "metadata": {},
   "outputs": [],
   "source": [
    "def clean_ame(x):   \n",
    "    a = [\"Balcony\",\n",
    "    \"Bed linen\",\n",
    "    \"Coffee machine\",\n",
    "    \"Basic cooking equipment\",\n",
    "    \"Child friendly\",\n",
    "    \"Outdoor space\",\n",
    "    \"Long term stays allowed\",\n",
    "    \"Private entrance\",\n",
    "    \"Safe or security system\",\n",
    "    \"Self check-in\"]\n",
    "    b = [\"washer\",\n",
    "    \"dryer\",\n",
    "    \"dish\",\n",
    "    \"Elevator\", \"TV\"]\n",
    "    c = [\"parking\",\n",
    "    \"pet\"]\n",
    "    count=0\n",
    "    for i in a:\n",
    "        if i in x:\n",
    "            count +=2\n",
    "    for i in b:\n",
    "        if i in x:\n",
    "            count +=0.5\n",
    "    for i in c:\n",
    "        if i in x:\n",
    "            count -=2\n",
    "    return count\n"
   ]
  },
  {
   "cell_type": "code",
   "execution_count": 250,
   "id": "02eb6c85",
   "metadata": {},
   "outputs": [
    {
     "data": {
      "text/plain": [
       "2.5"
      ]
     },
     "execution_count": 250,
     "metadata": {},
     "output_type": "execute_result"
    }
   ],
   "source": [
    "clean_ame([\"dish\",\n",
    "    \"Bed linen\"])"
   ]
  },
  {
   "cell_type": "code",
   "execution_count": 251,
   "id": "c2eff2e9",
   "metadata": {},
   "outputs": [],
   "source": [
    "def clean_instant_bookable(x):\n",
    "    if x == \"t\":\n",
    "        return 1\n",
    "    else:\n",
    "        return 0"
   ]
  },
  {
   "cell_type": "code",
   "execution_count": 252,
   "id": "7fa142cf",
   "metadata": {},
   "outputs": [],
   "source": [
    "def clean_all(x):\n",
    "    \n",
    "    df_clean_1 = x.drop(['id', 'listing_url', 'scrape_id', 'last_scraped', 'name', 'description',\n",
    "     'neighborhood_overview', 'picture_url', 'host_id', 'host_url', 'host_name', 'host_since', 'host_location',\n",
    "     'host_about', 'host_response_time', 'host_response_rate', 'host_acceptance_rate', 'host_is_superhost',\n",
    "     'host_thumbnail_url', 'host_picture_url', 'host_neighbourhood', #'host_listings_count',\n",
    "     'host_total_listings_count', 'host_verifications', 'host_has_profile_pic', 'host_identity_verified',\n",
    "     'neighbourhood', #'neighbourhood_cleansed',\n",
    "     'neighbourhood_group_cleansed',\n",
    "                         'latitude',\n",
    "                         'longitude',\n",
    "                         #'property_type',\n",
    "     'room_type', #'accommodates',\n",
    "     'bathrooms', #'bathrooms_text',\n",
    "     'bedrooms', 'beds', #'amenities',\n",
    "    # 'price',\n",
    "     #'minimum_nights',\n",
    "    # 'maximum_nights',\n",
    "     'minimum_minimum_nights', 'maximum_minimum_nights', 'minimum_maximum_nights', 'maximum_maximum_nights',\n",
    "     'minimum_nights_avg_ntm', 'maximum_nights_avg_ntm', 'calendar_updated', 'has_availability',\n",
    "     'availability_30', 'availability_60', #'availability_90',\n",
    "     'availability_365', 'calendar_last_scraped',# 'number_of_reviews',\n",
    "     'number_of_reviews_ltm', 'number_of_reviews_l30d', 'first_review', 'last_review',  #'review_scores_rating',\n",
    "     'review_scores_accuracy',\n",
    "     'review_scores_cleanliness',\n",
    "     'review_scores_checkin',\n",
    "     'review_scores_communication',\n",
    "    # 'review_scores_location',\n",
    "    # 'review_scores_value',\n",
    "     'license',# 'instant_bookable',\n",
    "     'calculated_host_listings_count', 'calculated_host_listings_count_entire_homes',\n",
    "     'calculated_host_listings_count_private_rooms', 'calculated_host_listings_count_shared_rooms',\n",
    "     'reviews_per_month'],axis=1)\n",
    "    \n",
    "    df_clean_1[\"property_type\"]=df_clean_1.property_type.apply(cleaning_property)\n",
    "    df_clean_1[\"bathrooms_text\"]=df_clean_1.bathrooms_text.apply(cleaning_bath)\n",
    "    df_clean_1['bathrooms_text'].fillna((df_clean_1['bathrooms_text'].mean()), inplace=True)\n",
    "    df_clean_1[\"amenities\"]=df_clean_1.amenities.apply(clean_ame)\n",
    "    df_clean_1[\"instant_bookable\"]=df_clean_1.instant_bookable.apply(clean_instant_bookable)\n",
    "    df_clean_2 =df_clean_1.fillna(4.79)\n",
    "    \n",
    "    neighbourhood_cleansed=pd.get_dummies(df_clean_2.neighbourhood_cleansed, drop_first=True)\n",
    "    df_clean_2=pd.concat([df_clean_2,neighbourhood_cleansed], axis=1)\n",
    "    \n",
    "    df_clean_2.drop('neighbourhood_cleansed', axis=1,inplace=True)\n",
    "    if \"price\" in df_clean_2.columns:\n",
    "        df_clean_2 = df_clean_2[df_clean_2.price != 0]\n",
    "        df_clean_2 = df_clean_2[df_clean_2.price != 6477]\n",
    "    return df_clean_2"
   ]
  },
  {
   "cell_type": "code",
   "execution_count": 253,
   "id": "8264cd14",
   "metadata": {},
   "outputs": [],
   "source": [
    "clean_df = clean_all(df)\n"
   ]
  },
  {
   "cell_type": "code",
   "execution_count": 254,
   "id": "20061ddb",
   "metadata": {
    "scrolled": true
   },
   "outputs": [
    {
     "data": {
      "text/plain": [
       "\"corr_df = clean_df.corr(method='pearson')\\n\\nplt.figure(figsize=(50, 50))\\nsns.heatmap(corr_df, annot=True)\\nplt.show()\""
      ]
     },
     "execution_count": 254,
     "metadata": {},
     "output_type": "execute_result"
    }
   ],
   "source": [
    "\"\"\"corr_df = clean_df.corr(method='pearson')\n",
    "\n",
    "plt.figure(figsize=(50, 50))\n",
    "sns.heatmap(corr_df, annot=True)\n",
    "plt.show()\"\"\""
   ]
  },
  {
   "cell_type": "code",
   "execution_count": 255,
   "id": "6d7592d3",
   "metadata": {},
   "outputs": [],
   "source": [
    "clean_df.to_csv('df_clean_2.csv', index=False)"
   ]
  },
  {
   "cell_type": "markdown",
   "id": "a7d472b9",
   "metadata": {},
   "source": [
    "A probar con los test\n"
   ]
  },
  {
   "cell_type": "code",
   "execution_count": 256,
   "id": "a3873437",
   "metadata": {},
   "outputs": [],
   "source": [
    "X=clean_df.drop('price', axis=1)"
   ]
  },
  {
   "cell_type": "code",
   "execution_count": 257,
   "id": "8d8889a2",
   "metadata": {},
   "outputs": [],
   "source": [
    "y=clean_df.price"
   ]
  },
  {
   "cell_type": "code",
   "execution_count": null,
   "id": "b46e1805",
   "metadata": {},
   "outputs": [],
   "source": [
    "\n"
   ]
  },
  {
   "cell_type": "code",
   "execution_count": 258,
   "id": "7a0e8fcf",
   "metadata": {},
   "outputs": [],
   "source": [
    "X_train, X_test, y_train, y_test = tts(X, y, test_size=0.2)"
   ]
  },
  {
   "cell_type": "code",
   "execution_count": 259,
   "id": "2d936862",
   "metadata": {},
   "outputs": [],
   "source": [
    "def prueba_modelo(modelo):\n",
    "\n",
    "    modelo.fit(X_train, y_train)\n",
    "    y_pred_train=modelo.predict(X_train)\n",
    "    y_pred_test=modelo.predict(X_test)\n",
    "\n",
    "    train_score=modelo.score(X_train, y_train)  \n",
    "    test_score=modelo.score(X_test, y_test)\n",
    "    \n",
    "    mse_train = mse(y_pred_train,y_train,squared=False)\n",
    "    mse_test = mse(y_pred_test,y_test,squared=False)\n",
    "    \n",
    "    print(modelo)\n",
    "    print('Train:', train_score)\n",
    "    print('Test:', test_score) \n",
    "    print('mse_train:', mse_train) \n",
    "    print('mse_test:', mse_test) \n",
    "    print('\\n')"
   ]
  },
  {
   "cell_type": "code",
   "execution_count": 260,
   "id": "7711d16a",
   "metadata": {},
   "outputs": [
    {
     "name": "stdout",
     "output_type": "stream",
     "text": [
      "LinearRegression()\n",
      "Train: 0.3916874514992804\n",
      "Test: 0.3363480910086739\n",
      "mse_train: 89.5265395175397\n",
      "mse_test: 99.30546515525612\n",
      "\n",
      "\n",
      "Lasso()\n",
      "Train: 0.3716523927839497\n",
      "Test: 0.32741667935612173\n",
      "mse_train: 90.98889547225696\n",
      "mse_test: 99.9714572150276\n",
      "\n",
      "\n",
      "ElasticNet()\n",
      "Train: 0.32589235189301524\n",
      "Test: 0.3086692882766775\n",
      "mse_train: 94.24385393977988\n",
      "mse_test: 101.35516879600564\n",
      "\n",
      "\n",
      "RandomForestRegressor(max_leaf_nodes=50, n_estimators=5)\n",
      "Train: 0.604496377332628\n",
      "Test: 0.32988866230303193\n",
      "mse_train: 72.18777287016745\n",
      "mse_test: 99.78757276632821\n",
      "\n",
      "\n",
      "XGBRegressor(base_score=0.5, booster='gbtree', colsample_bylevel=1,\n",
      "             colsample_bynode=1, colsample_bytree=1, enable_categorical=False,\n",
      "             gamma=0, gpu_id=-1, importance_type=None,\n",
      "             interaction_constraints='', learning_rate=0.25, max_delta_step=0,\n",
      "             max_depth=6, min_child_weight=1, missing=nan,\n",
      "             monotone_constraints='()', n_estimators=8, n_jobs=8,\n",
      "             num_parallel_tree=1, predictor='auto', random_state=0, reg_alpha=0,\n",
      "             reg_lambda=1, scale_pos_weight=1, subsample=1, tree_method='exact',\n",
      "             validate_parameters=1, verbosity=None)\n",
      "Train: 0.5952658750453735\n",
      "Test: 0.3615055006135416\n",
      "mse_train: 73.02529531235501\n",
      "mse_test: 97.40506850456417\n",
      "\n",
      "\n"
     ]
    },
    {
     "name": "stderr",
     "output_type": "stream",
     "text": [
      "/home/ricardo/anaconda3/envs/ironhack/lib/python3.8/site-packages/xgboost/data.py:262: FutureWarning: pandas.Int64Index is deprecated and will be removed from pandas in a future version. Use pandas.Index with the appropriate dtype instead.\n",
      "  elif isinstance(data.columns, (pd.Int64Index, pd.RangeIndex)):\n",
      "/home/ricardo/anaconda3/envs/ironhack/lib/python3.8/site-packages/xgboost/data.py:262: FutureWarning: pandas.Int64Index is deprecated and will be removed from pandas in a future version. Use pandas.Index with the appropriate dtype instead.\n",
      "  elif isinstance(data.columns, (pd.Int64Index, pd.RangeIndex)):\n"
     ]
    }
   ],
   "source": [
    "modelos=[LinReg(), \n",
    "         Lasso(), \n",
    "         ElasticNet(),\n",
    "         RFR(max_leaf_nodes=50, n_estimators=5),\n",
    "         xgb.XGBRegressor(learning_rate=0.25,n_estimators=8)]\n",
    "\n",
    "for m in modelos:\n",
    "    prueba_modelo(m)"
   ]
  },
  {
   "cell_type": "code",
   "execution_count": 261,
   "id": "0d1b0240",
   "metadata": {},
   "outputs": [],
   "source": [
    "def prueba_todo(modelo):\n",
    "\n",
    "    modelo.fit(X, y)\n",
    "\n",
    "    y_pred=modelo.predict(X)\n",
    "\n",
    "    total_score=modelo.score(X, y)  \n",
    "    \n",
    "    print(modelo)\n",
    "    print('Total:', total_score) \n",
    "    print('\\n')\n",
    "    \n",
    "    # Predecir con df_test limpio en vez de X, luego la y_predict seria una columna de price de cada ID"
   ]
  },
  {
   "cell_type": "code",
   "execution_count": 262,
   "id": "d2dcecdc",
   "metadata": {},
   "outputs": [
    {
     "name": "stdout",
     "output_type": "stream",
     "text": [
      "LinearRegression()\n",
      "Total: 0.3818617671274259\n",
      "\n",
      "\n",
      "Lasso()\n",
      "Total: 0.3602689681572573\n",
      "\n",
      "\n",
      "ElasticNet()\n",
      "Total: 0.32223174221782824\n",
      "\n",
      "\n",
      "RandomForestRegressor(max_leaf_nodes=50, n_estimators=5)\n",
      "Total: 0.5993119642033748\n",
      "\n",
      "\n",
      "XGBRegressor(base_score=0.5, booster='gbtree', colsample_bylevel=1,\n",
      "             colsample_bynode=1, colsample_bytree=1, enable_categorical=False,\n",
      "             gamma=0, gpu_id=-1, importance_type=None,\n",
      "             interaction_constraints='', learning_rate=0.25, max_delta_step=0,\n",
      "             max_depth=6, min_child_weight=1, missing=nan,\n",
      "             monotone_constraints='()', n_estimators=8, n_jobs=8,\n",
      "             num_parallel_tree=1, predictor='auto', random_state=0, reg_alpha=0,\n",
      "             reg_lambda=1, scale_pos_weight=1, subsample=1, tree_method='exact',\n",
      "             validate_parameters=1, verbosity=None)\n",
      "Total: 0.5947859409736013\n",
      "\n",
      "\n"
     ]
    },
    {
     "name": "stderr",
     "output_type": "stream",
     "text": [
      "/home/ricardo/anaconda3/envs/ironhack/lib/python3.8/site-packages/xgboost/data.py:262: FutureWarning: pandas.Int64Index is deprecated and will be removed from pandas in a future version. Use pandas.Index with the appropriate dtype instead.\n",
      "  elif isinstance(data.columns, (pd.Int64Index, pd.RangeIndex)):\n"
     ]
    }
   ],
   "source": [
    "for m in modelos:\n",
    "    prueba_todo(m)"
   ]
  },
  {
   "cell_type": "code",
   "execution_count": 263,
   "id": "43567437",
   "metadata": {},
   "outputs": [],
   "source": [
    "X_u=clean_df.drop('price', axis=1)"
   ]
  },
  {
   "cell_type": "code",
   "execution_count": 264,
   "id": "4ab4e447",
   "metadata": {},
   "outputs": [],
   "source": [
    "Y_u=clean_df.price"
   ]
  },
  {
   "cell_type": "code",
   "execution_count": 265,
   "id": "39493b4a",
   "metadata": {},
   "outputs": [],
   "source": [
    "X_train_u, X_test_u, y_train_u, y_test_u = tts(X, y, test_size=0.2)"
   ]
  },
  {
   "cell_type": "code",
   "execution_count": 274,
   "id": "4c591f98",
   "metadata": {},
   "outputs": [],
   "source": [
    "final = xgb.XGBRegressor(learning_rate=0.25,n_estimators=8)"
   ]
  },
  {
   "cell_type": "code",
   "execution_count": 275,
   "id": "e616fe2a",
   "metadata": {},
   "outputs": [],
   "source": [
    "#final.fit(X_train_u,y_train_u)"
   ]
  },
  {
   "cell_type": "code",
   "execution_count": 276,
   "id": "9c73bb1d",
   "metadata": {},
   "outputs": [
    {
     "name": "stderr",
     "output_type": "stream",
     "text": [
      "/home/ricardo/anaconda3/envs/ironhack/lib/python3.8/site-packages/xgboost/data.py:262: FutureWarning: pandas.Int64Index is deprecated and will be removed from pandas in a future version. Use pandas.Index with the appropriate dtype instead.\n",
      "  elif isinstance(data.columns, (pd.Int64Index, pd.RangeIndex)):\n"
     ]
    },
    {
     "data": {
      "text/plain": [
       "XGBRegressor(base_score=0.5, booster='gbtree', colsample_bylevel=1,\n",
       "             colsample_bynode=1, colsample_bytree=1, enable_categorical=False,\n",
       "             gamma=0, gpu_id=-1, importance_type=None,\n",
       "             interaction_constraints='', learning_rate=0.25, max_delta_step=0,\n",
       "             max_depth=6, min_child_weight=1, missing=nan,\n",
       "             monotone_constraints='()', n_estimators=8, n_jobs=8,\n",
       "             num_parallel_tree=1, predictor='auto', random_state=0, reg_alpha=0,\n",
       "             reg_lambda=1, scale_pos_weight=1, subsample=1, tree_method='exact',\n",
       "             validate_parameters=1, verbosity=None)"
      ]
     },
     "execution_count": 276,
     "metadata": {},
     "output_type": "execute_result"
    }
   ],
   "source": [
    "final.fit(X_u,Y_u)"
   ]
  },
  {
   "cell_type": "code",
   "execution_count": 277,
   "id": "9f05a81a",
   "metadata": {},
   "outputs": [
    {
     "data": {
      "text/plain": [
       "0.5906234543853126"
      ]
     },
     "execution_count": 277,
     "metadata": {},
     "output_type": "execute_result"
    }
   ],
   "source": [
    "final.score(X_train_u,y_train_u)"
   ]
  },
  {
   "cell_type": "code",
   "execution_count": 278,
   "id": "74f2e8d0",
   "metadata": {},
   "outputs": [
    {
     "name": "stderr",
     "output_type": "stream",
     "text": [
      "/home/ricardo/anaconda3/envs/ironhack/lib/python3.8/site-packages/xgboost/data.py:262: FutureWarning: pandas.Int64Index is deprecated and will be removed from pandas in a future version. Use pandas.Index with the appropriate dtype instead.\n",
      "  elif isinstance(data.columns, (pd.Int64Index, pd.RangeIndex)):\n"
     ]
    }
   ],
   "source": [
    "y_pred_u=final.predict(X_test_u)"
   ]
  },
  {
   "cell_type": "code",
   "execution_count": 279,
   "id": "472172d9",
   "metadata": {},
   "outputs": [
    {
     "data": {
      "text/plain": [
       "67.76612433851069"
      ]
     },
     "execution_count": 279,
     "metadata": {},
     "output_type": "execute_result"
    }
   ],
   "source": [
    "mse(y_pred_u,y_test_u,squared=False)"
   ]
  },
  {
   "cell_type": "markdown",
   "id": "f43b8bb7",
   "metadata": {},
   "source": [
    "Listo Train, viene Test\n"
   ]
  },
  {
   "cell_type": "code",
   "execution_count": 280,
   "id": "d605510d",
   "metadata": {},
   "outputs": [],
   "source": [
    "df_test = pd.read_csv('test.csv')"
   ]
  },
  {
   "cell_type": "code",
   "execution_count": 283,
   "id": "8ee6476e",
   "metadata": {},
   "outputs": [],
   "source": [
    "df_test_clean = clean_all(df_test)"
   ]
  },
  {
   "cell_type": "code",
   "execution_count": 284,
   "id": "699090a1",
   "metadata": {},
   "outputs": [],
   "source": [
    "sample=pd.read_csv('sample.csv')"
   ]
  },
  {
   "cell_type": "code",
   "execution_count": 285,
   "id": "75402a4f",
   "metadata": {},
   "outputs": [
    {
     "name": "stderr",
     "output_type": "stream",
     "text": [
      "/home/ricardo/anaconda3/envs/ironhack/lib/python3.8/site-packages/xgboost/data.py:262: FutureWarning: pandas.Int64Index is deprecated and will be removed from pandas in a future version. Use pandas.Index with the appropriate dtype instead.\n",
      "  elif isinstance(data.columns, (pd.Int64Index, pd.RangeIndex)):\n"
     ]
    }
   ],
   "source": [
    "sample.price = final.predict(df_test_clean)\n",
    "#c = pd.DataFrame(final.predict(b)).to_csv('sample2.csv')\n",
    "#c = pd.DataFrame(final.predict(b))"
   ]
  },
  {
   "cell_type": "code",
   "execution_count": 286,
   "id": "0286eded",
   "metadata": {},
   "outputs": [],
   "source": [
    "sample.to_csv('sample_XGB6.csv', index=False)"
   ]
  },
  {
   "cell_type": "code",
   "execution_count": 287,
   "id": "71eae087",
   "metadata": {},
   "outputs": [
    {
     "data": {
      "text/html": [
       "<div>\n",
       "<style scoped>\n",
       "    .dataframe tbody tr th:only-of-type {\n",
       "        vertical-align: middle;\n",
       "    }\n",
       "\n",
       "    .dataframe tbody tr th {\n",
       "        vertical-align: top;\n",
       "    }\n",
       "\n",
       "    .dataframe thead th {\n",
       "        text-align: right;\n",
       "    }\n",
       "</style>\n",
       "<table border=\"1\" class=\"dataframe\">\n",
       "  <thead>\n",
       "    <tr style=\"text-align: right;\">\n",
       "      <th></th>\n",
       "      <th>price</th>\n",
       "      <th>id</th>\n",
       "    </tr>\n",
       "  </thead>\n",
       "  <tbody>\n",
       "    <tr>\n",
       "      <th>0</th>\n",
       "      <td>123.366859</td>\n",
       "      <td>0</td>\n",
       "    </tr>\n",
       "    <tr>\n",
       "      <th>1</th>\n",
       "      <td>154.514984</td>\n",
       "      <td>1</td>\n",
       "    </tr>\n",
       "    <tr>\n",
       "      <th>2</th>\n",
       "      <td>106.951996</td>\n",
       "      <td>2</td>\n",
       "    </tr>\n",
       "    <tr>\n",
       "      <th>3</th>\n",
       "      <td>95.018394</td>\n",
       "      <td>3</td>\n",
       "    </tr>\n",
       "    <tr>\n",
       "      <th>4</th>\n",
       "      <td>120.854431</td>\n",
       "      <td>4</td>\n",
       "    </tr>\n",
       "  </tbody>\n",
       "</table>\n",
       "</div>"
      ],
      "text/plain": [
       "        price  id\n",
       "0  123.366859   0\n",
       "1  154.514984   1\n",
       "2  106.951996   2\n",
       "3   95.018394   3\n",
       "4  120.854431   4"
      ]
     },
     "execution_count": 287,
     "metadata": {},
     "output_type": "execute_result"
    }
   ],
   "source": [
    "sample.head()"
   ]
  },
  {
   "cell_type": "code",
   "execution_count": null,
   "id": "0c1ea248",
   "metadata": {},
   "outputs": [],
   "source": []
  },
  {
   "cell_type": "code",
   "execution_count": null,
   "id": "17b5ab52",
   "metadata": {},
   "outputs": [],
   "source": []
  }
 ],
 "metadata": {
  "kernelspec": {
   "display_name": "ironhack",
   "language": "python",
   "name": "ironhack"
  },
  "language_info": {
   "codemirror_mode": {
    "name": "ipython",
    "version": 3
   },
   "file_extension": ".py",
   "mimetype": "text/x-python",
   "name": "python",
   "nbconvert_exporter": "python",
   "pygments_lexer": "ipython3",
   "version": "3.8.5"
  }
 },
 "nbformat": 4,
 "nbformat_minor": 5
}
